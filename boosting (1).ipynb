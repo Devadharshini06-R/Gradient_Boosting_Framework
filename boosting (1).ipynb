{
  "nbformat": 4,
  "nbformat_minor": 0,
  "metadata": {
    "colab": {
      "private_outputs": true,
      "provenance": []
    },
    "kernelspec": {
      "name": "python3",
      "display_name": "Python 3"
    },
    "language_info": {
      "name": "python"
    }
  },
  "cells": [
    {
      "cell_type": "markdown",
      "source": [
        "# **GRADIENT BOOSTING FRAMEWORK**"
      ],
      "metadata": {
        "id": "A2OzqhuW4cXP"
      }
    },
    {
      "cell_type": "code",
      "source": [
        "import warnings\n",
        "warnings.filterwarnings('ignore')"
      ],
      "metadata": {
        "id": "iBgz_5UfsUdB"
      },
      "execution_count": null,
      "outputs": []
    },
    {
      "cell_type": "markdown",
      "source": [
        "# Load datset"
      ],
      "metadata": {
        "id": "pSpWss1Z2-fa"
      }
    },
    {
      "cell_type": "code",
      "source": [
        "import pandas as pd\n",
        "from sklearn.datasets import load_breast_cancer,fetch_california_housing\n",
        "\n",
        "# reg - dataset\n",
        "california_housing = fetch_california_housing(as_frame=True)\n",
        "housing_df = california_housing.frame\n",
        "print(\"REGRESSION\")\n",
        "display(housing_df.head())\n",
        "\n",
        "# cls - dataset\n",
        "breast_cancer = load_breast_cancer(as_frame=True)\n",
        "Bcancer_df = breast_cancer.frame\n",
        "print(\"\\nCLASSIFICATION\")\n",
        "display(Bcancer_df.head())"
      ],
      "metadata": {
        "id": "cXscLUIdvtVg"
      },
      "execution_count": null,
      "outputs": []
    },
    {
      "cell_type": "code",
      "source": [
        "california_housing"
      ],
      "metadata": {
        "id": "Ax3KFW7MLPbr"
      },
      "execution_count": null,
      "outputs": []
    },
    {
      "cell_type": "markdown",
      "source": [
        "# shape"
      ],
      "metadata": {
        "id": "GuNfCSHP3ovG"
      }
    },
    {
      "cell_type": "code",
      "source": [
        "print(\"reg\",housing_df.shape)\n",
        "print(\"cls\",Bcancer_df.shape)"
      ],
      "metadata": {
        "id": "Pnzzh9AY3rAW"
      },
      "execution_count": null,
      "outputs": []
    },
    {
      "cell_type": "markdown",
      "source": [
        "# info"
      ],
      "metadata": {
        "id": "NeglGOPj3CR_"
      }
    },
    {
      "cell_type": "code",
      "source": [
        "housing_df.info()"
      ],
      "metadata": {
        "id": "1P_Lb8hTw9QQ"
      },
      "execution_count": null,
      "outputs": []
    },
    {
      "cell_type": "code",
      "source": [
        "Bcancer_df.info()"
      ],
      "metadata": {
        "id": "BcNd6aguxdoH"
      },
      "execution_count": null,
      "outputs": []
    },
    {
      "cell_type": "code",
      "source": [
        "housing_df[\"MedHouseVal\"].median()"
      ],
      "metadata": {
        "id": "ObzcYGwuyuFM"
      },
      "execution_count": null,
      "outputs": []
    },
    {
      "cell_type": "markdown",
      "source": [
        "# remove noise columns"
      ],
      "metadata": {
        "id": "LMqcIi8j3EWX"
      }
    },
    {
      "cell_type": "code",
      "source": [
        "housing_df.drop(columns=[\"Population\", \"Latitude\", \"Longitude\"],inplace=True)"
      ],
      "metadata": {
        "id": "yestH1xIximo"
      },
      "execution_count": null,
      "outputs": []
    },
    {
      "cell_type": "code",
      "source": [
        "Bcancer_df.drop(columns=[col for col in Bcancer_df.columns if \"error\" in col],inplace=True)"
      ],
      "metadata": {
        "id": "MmdAHwZ8yF95"
      },
      "execution_count": null,
      "outputs": []
    },
    {
      "cell_type": "code",
      "source": [
        "Bcancer_df.columns"
      ],
      "metadata": {
        "id": "x9M8E9eoyVh4"
      },
      "execution_count": null,
      "outputs": []
    },
    {
      "cell_type": "code",
      "source": [
        "print(\"reg\",housing_df.shape)\n",
        "print(\"cls\",Bcancer_df.shape)"
      ],
      "metadata": {
        "id": "dDDjdvhf38jC"
      },
      "execution_count": null,
      "outputs": []
    },
    {
      "cell_type": "markdown",
      "source": [
        "# train test split"
      ],
      "metadata": {
        "id": "vOoGzOV83IX8"
      }
    },
    {
      "cell_type": "code",
      "source": [
        "from sklearn.model_selection import train_test_split\n",
        "\n",
        "# For housing_df\n",
        "X_housing = housing_df.drop(columns=['MedHouseVal'])\n",
        "y_housing = housing_df['MedHouseVal']\n",
        "X_train_housing, X_test_housing, y_train_housing, y_test_housing = train_test_split(X_housing, y_housing, test_size=0.2, random_state=42)\n",
        "\n",
        "\n",
        "# For Bcancer_df\n",
        "X_bcancer = Bcancer_df.drop(columns=['target'])\n",
        "y_bcancer = Bcancer_df['target']\n",
        "X_train_bcancer, X_test_bcancer, y_train_bcancer, y_test_bcancer = train_test_split(X_bcancer, y_bcancer, test_size=0.2, random_state=42)"
      ],
      "metadata": {
        "id": "intTK2fGzIrL"
      },
      "execution_count": null,
      "outputs": []
    },
    {
      "cell_type": "markdown",
      "source": [
        "# XGBoost"
      ],
      "metadata": {
        "id": "6Z_zJ-7avt6V"
      }
    },
    {
      "cell_type": "markdown",
      "source": [
        "REGRESSION"
      ],
      "metadata": {
        "id": "1mZrT8JV4HOS"
      }
    },
    {
      "cell_type": "code",
      "execution_count": null,
      "metadata": {
        "id": "Tmp4u7h4r2bT"
      },
      "outputs": [],
      "source": [
        "import xgboost as xgb\n",
        "from sklearn.metrics import mean_squared_error, r2_score\n",
        "\n",
        "# Model\n",
        "xgb_reg = xgb.XGBRegressor(n_estimators=100, learning_rate=0.1, max_depth=3, random_state=42)\n",
        "xgb_reg.fit(X_train_housing, y_train_housing)\n",
        "\n",
        "# Predict & Evaluate\n",
        "y_pred = xgb_reg.predict(X_test_housing)\n",
        "print(\"XGBoost Regression MSE:\", mean_squared_error(y_test_housing, y_pred))\n",
        "print(\"R2:\", r2_score(y_test_housing, y_pred))"
      ]
    },
    {
      "cell_type": "code",
      "source": [
        "import matplotlib.pyplot as plt\n",
        "import numpy as np\n",
        "import seaborn as sns\n",
        "from xgboost import plot_tree\n",
        "\n",
        "plt.figure(figsize=(20,10))\n",
        "plot_tree(xgb_reg, num_trees=0)\n",
        "plt.title(\"XGBoost Regression Tree (Housing)\")\n",
        "plt.show()"
      ],
      "metadata": {
        "id": "T2-K5x410_Rd"
      },
      "execution_count": null,
      "outputs": []
    },
    {
      "cell_type": "markdown",
      "source": [
        "CLASSIFICATION"
      ],
      "metadata": {
        "id": "RF536dme4KLA"
      }
    },
    {
      "cell_type": "code",
      "source": [
        "from sklearn.metrics import accuracy_score\n",
        "\n",
        "# Model\n",
        "xgb_clf = xgb.XGBClassifier(n_estimators=100, learning_rate=0.1, max_depth=3, random_state=42)\n",
        "xgb_clf.fit(X_train_bcancer, y_train_bcancer)\n",
        "\n",
        "# Predict & Evaluate\n",
        "y_pred_c = xgb_clf.predict(X_test_bcancer)\n",
        "print(\"XGBoost Classification Accuracy:\", accuracy_score(y_test_bcancer, y_pred_c))\n"
      ],
      "metadata": {
        "id": "vluTPXjBr_4M"
      },
      "execution_count": null,
      "outputs": []
    },
    {
      "cell_type": "code",
      "source": [
        "plt.figure(figsize=(15,8))\n",
        "plot_tree(xgb_clf, num_trees=0)\n",
        "plt.title(\"XGBoost Classification Tree (Breast Cancer)\")\n",
        "plt.show()"
      ],
      "metadata": {
        "id": "9EIg3zPSHx09"
      },
      "execution_count": null,
      "outputs": []
    },
    {
      "cell_type": "code",
      "source": [
        "from sklearn.metrics import confusion_matrix\n",
        "\n",
        "cm = confusion_matrix(y_test_bcancer, y_pred_c)\n",
        "sns.heatmap(cm, annot=True, fmt=\"d\", cmap=\"Blues\")\n",
        "plt.title(\"XGBoost Classification Confusion Matrix\")\n",
        "plt.xlabel(\"Predicted\")\n",
        "plt.ylabel(\"Actual\")\n",
        "plt.show()"
      ],
      "metadata": {
        "id": "gGZ8Wo4XvBfl"
      },
      "execution_count": null,
      "outputs": []
    },
    {
      "cell_type": "markdown",
      "source": [
        "# LightGBM"
      ],
      "metadata": {
        "id": "DEY9qrNxsE0_"
      }
    },
    {
      "cell_type": "markdown",
      "source": [
        "REGRESSION"
      ],
      "metadata": {
        "id": "Am1e7qtJ4OVR"
      }
    },
    {
      "cell_type": "code",
      "source": [
        "import lightgbm as lgb\n",
        "from sklearn.metrics import mean_squared_error, r2_score\n",
        "\n",
        "lgb_reg = lgb.LGBMRegressor(\n",
        "    n_estimators=200,\n",
        "    learning_rate=0.05,\n",
        "    max_depth=-1,\n",
        "    num_leaves=31,\n",
        "    min_child_samples=5,\n",
        "    random_state=42,\n",
        "     verbose=-1)\n",
        "lgb_reg.fit(X_train_housing, y_train_housing)\n",
        "y_pred_L = lgb_reg.predict(X_test_housing)\n",
        "print(\"LightGBM Regression MSE:\", mean_squared_error(y_test_housing, y_pred_L))\n",
        "print(\"R2:\", r2_score(y_test_housing, y_pred_L))\n"
      ],
      "metadata": {
        "id": "cGRBXIhKsIrC"
      },
      "execution_count": null,
      "outputs": []
    },
    {
      "cell_type": "code",
      "source": [
        "import matplotlib.pyplot as plt\n",
        "import lightgbm as lgb\n",
        "from lightgbm import plot_tree\n",
        "\n",
        "ax = plot_tree(lgb_reg, tree_index=0, figsize=(15,8))\n",
        "plt.title(\"LightGBM Regression Tree (Housing)\")\n",
        "plt.show()"
      ],
      "metadata": {
        "id": "R7fL1owO1fUT"
      },
      "execution_count": null,
      "outputs": []
    },
    {
      "cell_type": "markdown",
      "source": [
        "CLASSIFICATION"
      ],
      "metadata": {
        "id": "vlOxOHkC4Q8Z"
      }
    },
    {
      "cell_type": "code",
      "source": [
        "\n",
        "lgb_clf = lgb.LGBMClassifier(n_estimators=100, learning_rate=0.1, max_depth=3, random_state=42)\n",
        "lgb_clf.fit(X_train_bcancer, y_train_bcancer)\n",
        "\n",
        "y_pred_LC = lgb_clf.predict(X_test_bcancer)\n",
        "print(\"LightGBM Classification Accuracy:\", accuracy_score(y_test_bcancer, y_pred_LC))\n"
      ],
      "metadata": {
        "id": "wgwRlTryt0wV"
      },
      "execution_count": null,
      "outputs": []
    },
    {
      "cell_type": "code",
      "source": [
        "from sklearn.metrics import confusion_matrix\n",
        "\n",
        "cm = confusion_matrix(y_test_bcancer, y_pred_LC)\n",
        "sns.heatmap(cm, annot=True, fmt=\"d\", cmap=\"Blues\")\n",
        "plt.title(\"XGBoost Classification Confusion Matrix\")\n",
        "plt.xlabel(\"Predicted\")\n",
        "plt.ylabel(\"Actual\")\n",
        "plt.show()"
      ],
      "metadata": {
        "id": "MAV-xxpU187v"
      },
      "execution_count": null,
      "outputs": []
    },
    {
      "cell_type": "code",
      "source": [
        "ax = plot_tree(lgb_clf, tree_index=0, figsize=(15,8))\n",
        "plt.title(\"LightGBM Classification Tree (Breast Cancer)\")\n",
        "plt.show()"
      ],
      "metadata": {
        "id": "BuBSTzkPILzI"
      },
      "execution_count": null,
      "outputs": []
    },
    {
      "cell_type": "markdown",
      "source": [
        "# CatBoost"
      ],
      "metadata": {
        "id": "zjVSXXoIt6kE"
      }
    },
    {
      "cell_type": "code",
      "source": [
        "pip install catboost"
      ],
      "metadata": {
        "id": "-pFm8SZWuOTd"
      },
      "execution_count": null,
      "outputs": []
    },
    {
      "cell_type": "markdown",
      "source": [
        "REGRESSION"
      ],
      "metadata": {
        "id": "yE_kmKJ64Uqg"
      }
    },
    {
      "cell_type": "code",
      "source": [
        "from catboost import CatBoostRegressor\n",
        "\n",
        "cat_reg = CatBoostRegressor(iterations=100, learning_rate=0.1, depth=3, verbose=0, random_state=42)\n",
        "cat_reg.fit(X_train_housing, y_train_housing)\n",
        "\n",
        "y_pred_cat = cat_reg.predict(X_test_housing)\n",
        "print(\"CatBoost Regression MSE:\", mean_squared_error(y_test_housing, y_pred_cat))\n",
        "print(\"R2:\", r2_score(y_test_housing, y_pred_cat))\n"
      ],
      "metadata": {
        "id": "Ru1ceRF4t-IH"
      },
      "execution_count": null,
      "outputs": []
    },
    {
      "cell_type": "code",
      "source": [
        "cat_reg.plot_tree(tree_idx=0)"
      ],
      "metadata": {
        "id": "S898zWeR2xD-"
      },
      "execution_count": null,
      "outputs": []
    },
    {
      "cell_type": "markdown",
      "source": [
        "CLASSIFICATION"
      ],
      "metadata": {
        "id": "p7OG5yQe4XTJ"
      }
    },
    {
      "cell_type": "code",
      "source": [
        "from catboost import CatBoostClassifier\n",
        "\n",
        "\n",
        "cat_clf = CatBoostClassifier(iterations=100, learning_rate=0.1, depth=3, verbose=0, random_state=42)\n",
        "cat_clf.fit(X_train_bcancer, y_train_bcancer)\n",
        "\n",
        "y_pred_catc = cat_clf.predict(X_test_bcancer)\n",
        "print(\"CatBoost Classification Accuracy:\", accuracy_score(y_test_bcancer, y_pred_catc))\n"
      ],
      "metadata": {
        "id": "414dh6DQuVpd"
      },
      "execution_count": null,
      "outputs": []
    },
    {
      "cell_type": "code",
      "source": [
        "from sklearn.metrics import confusion_matrix\n",
        "\n",
        "cm = confusion_matrix(y_test_bcancer, y_pred_catc)\n",
        "sns.heatmap(cm, annot=True, fmt=\"d\", cmap=\"Blues\")\n",
        "plt.title(\"XGBoost Classification Confusion Matrix\")\n",
        "plt.xlabel(\"Predicted\")\n",
        "plt.ylabel(\"Actual\")\n",
        "plt.show()"
      ],
      "metadata": {
        "id": "j2EIkyic23BL"
      },
      "execution_count": null,
      "outputs": []
    },
    {
      "cell_type": "code",
      "source": [
        "cat_clf.plot_tree(tree_idx=0)"
      ],
      "metadata": {
        "id": "9gks40WjIbsX"
      },
      "execution_count": null,
      "outputs": []
    }
  ]
}